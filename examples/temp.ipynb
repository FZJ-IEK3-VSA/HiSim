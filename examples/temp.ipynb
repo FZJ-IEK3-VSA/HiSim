{
 "cells": [
  {
   "cell_type": "code",
   "execution_count": 1,
   "metadata": {},
   "outputs": [],
   "source": [
    "import os\n",
    "import pandas as pd"
   ]
  },
  {
   "cell_type": "code",
   "execution_count": 2,
   "metadata": {},
   "outputs": [],
   "source": [
    "# normalized time series profiles\n",
    "os.chdir('../')\n",
    "rootpath = os.getcwd()\n",
    "profilepath = (rootpath+'/hisim/inputs/HiSim-Data-Package-for-PIEG-Strom')\n",
    "eletrical_loadprofiles_path = (profilepath+'/electrical-loadprofiles/data_processed/15min')\n",
    "eletrical_loadprofiles = os.listdir(eletrical_loadprofiles_path)\n",
    "photovoltaic_profiles_path = (profilepath+'/photovoltaic/data_processed/15min')\n",
    "# weather\n",
    "weather_region = ['4']  # 1-15\n",
    "weather_year = ['2015'] # 2015,2045\n",
    "weather_type = ['a']    # (a)verage, extreme (s)ummer, extreme (w)inter\n",
    "# normalized photovoltaic power in kWp/MWh\n",
    "p_pv = [0, 0.1, 0.25, 0.5, 0.75, 1.0, 1.25, 1.5, 1.75, 2.0, 2.25, 2.5]\n",
    "# normalized battery capacity in kWh/MWh\n",
    "e_bat = [0, 0.1, 0.25, 0.5, 0.75, 1.0, 1.25, 1.5, 1.75, 2.0, 2.25, 2.5]"
   ]
  },
  {
   "cell_type": "code",
   "execution_count": 3,
   "metadata": {},
   "outputs": [],
   "source": [
    "parameters = pd.DataFrame()\n",
    "parameters['electrical_loadprofile'] = []\n",
    "variations = 0\n",
    "\n",
    "for eletrical_loadprofile in eletrical_loadprofiles:\n",
    "    for region in weather_region:\n",
    "        for year in weather_year:\n",
    "            for type in weather_type:\n",
    "                for pv in p_pv:\n",
    "                    for bat in e_bat:\n",
    "                        csv_filename=(eletrical_loadprofiles_path+eletrical_loadprofile)\n",
    "                        variations=variations+1\n",
    "\n"
   ]
  },
  {
   "cell_type": "code",
   "execution_count": 4,
   "metadata": {},
   "outputs": [
    {
     "data": {
      "text/plain": [
       "5760"
      ]
     },
     "execution_count": 4,
     "metadata": {},
     "output_type": "execute_result"
    }
   ],
   "source": [
    "variations"
   ]
  },
  {
   "cell_type": "code",
   "execution_count": null,
   "metadata": {},
   "outputs": [],
   "source": []
  }
 ],
 "metadata": {
  "kernelspec": {
   "display_name": "Python 3.8.6 ('base')",
   "language": "python",
   "name": "python3"
  },
  "language_info": {
   "codemirror_mode": {
    "name": "ipython",
    "version": 3
   },
   "file_extension": ".py",
   "mimetype": "text/x-python",
   "name": "python",
   "nbconvert_exporter": "python",
   "pygments_lexer": "ipython3",
   "version": "3.8.6"
  },
  "orig_nbformat": 4,
  "vscode": {
   "interpreter": {
    "hash": "6cd61234508d46a783ae2797e882bc64644a733a38d870eaac153b9c0e4a56ab"
   }
  }
 },
 "nbformat": 4,
 "nbformat_minor": 2
}
