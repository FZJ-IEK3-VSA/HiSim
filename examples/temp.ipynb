{
 "cells": [
  {
   "cell_type": "code",
   "execution_count": 1,
   "metadata": {},
   "outputs": [],
   "source": [
    "import os\n",
    "import pandas as pd"
   ]
  },
  {
   "cell_type": "code",
   "execution_count": 2,
   "metadata": {},
   "outputs": [],
   "source": [
    "# normalized time series profiles\n",
    "os.chdir('../')\n",
    "rootpath = os.getcwd()\n",
    "profilepath = (rootpath+'/hisim/inputs/HiSim-Data-Package-for-PIEG-Strom')\n",
    "electrical_loadprofiles_path = (profilepath+'/electrical-loadprofiles/data_processed/15min/')\n",
    "electrical_loadprofiles = os.listdir(electrical_loadprofiles_path)\n",
    "chp_profiles_path = (profilepath+'/chp/data_processed/15min/')\n",
    "# weather\n",
    "weather_region = ['4']  # 1-15\n",
    "weather_year = ['2015'] # 2015,2045\n",
    "weather_type = ['a']    # (a)verage, extreme (s)ummer, extreme (w)inter\n",
    "# normalized photovoltaic power in kWp/MWh\n",
    "p_chp = [0, 0.025, 0.05, 0.075, 0.1, 0.15, 0.2, 0.25, 0.3, 0.35, 0.4, 0.45, 0.50]\n",
    "# normalized battery capacity in kWh/MWh\n",
    "e_bat = [0, 0.05, 0.1, 0.15, 0.20, 0.3, 0.4, 0.5, 0.6, 0.7, 0.8, 0.9, 1.0]"
   ]
  },
  {
   "cell_type": "code",
   "execution_count": 4,
   "metadata": {},
   "outputs": [],
   "source": [
    "parameters = pd.DataFrame()\n",
    "parameters['electrical_loadprofile'] = []\n",
    "variations = 0\n",
    "\n",
    "for electrical_loadprofile in electrical_loadprofiles:\n",
    "    for region in weather_region:\n",
    "        for year in weather_year:\n",
    "            for type in weather_type:\n",
    "                for chp in p_chp:\n",
    "                    for bat in e_bat:\n",
    "                        csv_filename=(electrical_loadprofiles_path+electrical_loadprofile)\n",
    "                        variations=variations+1\n",
    "\n"
   ]
  },
  {
   "cell_type": "code",
   "execution_count": 5,
   "metadata": {},
   "outputs": [
    {
     "data": {
      "text/plain": [
       "5.492500000000001"
      ]
     },
     "execution_count": 5,
     "metadata": {},
     "output_type": "execute_result"
    }
   ],
   "source": [
    "time = variations*3/60/60\n",
    "time"
   ]
  },
  {
   "cell_type": "code",
   "execution_count": 6,
   "metadata": {},
   "outputs": [
    {
     "data": {
      "text/plain": [
       "6591"
      ]
     },
     "execution_count": 6,
     "metadata": {},
     "output_type": "execute_result"
    }
   ],
   "source": [
    "variations"
   ]
  },
  {
   "cell_type": "code",
   "execution_count": null,
   "metadata": {},
   "outputs": [],
   "source": []
  }
 ],
 "metadata": {
  "kernelspec": {
   "display_name": "Python 3.8.6 ('base')",
   "language": "python",
   "name": "python3"
  },
  "language_info": {
   "codemirror_mode": {
    "name": "ipython",
    "version": 3
   },
   "file_extension": ".py",
   "mimetype": "text/x-python",
   "name": "python",
   "nbconvert_exporter": "python",
   "pygments_lexer": "ipython3",
   "version": "3.8.6"
  },
  "orig_nbformat": 4,
  "vscode": {
   "interpreter": {
    "hash": "6cd61234508d46a783ae2797e882bc64644a733a38d870eaac153b9c0e4a56ab"
   }
  }
 },
 "nbformat": 4,
 "nbformat_minor": 2
}
