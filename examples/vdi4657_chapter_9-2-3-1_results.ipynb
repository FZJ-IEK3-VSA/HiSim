{
 "cells": [
  {
   "cell_type": "code",
   "execution_count": 21,
   "metadata": {},
   "outputs": [],
   "source": [
    "import os\n",
    "import pandas as pd"
   ]
  },
  {
   "cell_type": "code",
   "execution_count": 27,
   "metadata": {},
   "outputs": [],
   "source": [
    "df=pd.DataFrame()\n",
    "for folder in os.listdir('results'):\n",
    "    try:\n",
    "        df=pd.concat([df,pd.read_csv(r'results/'+folder+'/results_kpi.csv')])\n",
    "    except:\n",
    "        print('No `results_kpi.csv` in ' + folder)\n",
    "df.sort_values('p_pv')\n",
    "df.to_csv('results.csv')"
   ]
  },
  {
   "cell_type": "code",
   "execution_count": 24,
   "metadata": {},
   "outputs": [
    {
     "data": {
      "text/plain": [
       "0    0.762421\n",
       "0    0.764103\n",
       "0    0.783472\n",
       "0    0.804786\n",
       "0    0.808157\n",
       "       ...   \n",
       "0         NaN\n",
       "0    0.828917\n",
       "0    0.757155\n",
       "0    0.808366\n",
       "0    0.757155\n",
       "Length: 81, dtype: float64"
      ]
     },
     "execution_count": 24,
     "metadata": {},
     "output_type": "execute_result"
    }
   ],
   "source": [
    "df['battery_discharge [kWh]'] / df['battery_charge [kWh]']"
   ]
  },
  {
   "cell_type": "code",
   "execution_count": null,
   "metadata": {},
   "outputs": [],
   "source": []
  }
 ],
 "metadata": {
  "kernelspec": {
   "display_name": "Python 3.9.7 ('bslib')",
   "language": "python",
   "name": "python3"
  },
  "language_info": {
   "codemirror_mode": {
    "name": "ipython",
    "version": 3
   },
   "file_extension": ".py",
   "mimetype": "text/x-python",
   "name": "python",
   "nbconvert_exporter": "python",
   "pygments_lexer": "ipython3",
   "version": "3.9.7"
  },
  "orig_nbformat": 4,
  "vscode": {
   "interpreter": {
    "hash": "04117a5bb49b3303f8f5f412d8fc62c734d5d51be97036578688a9fe41de4b60"
   }
  }
 },
 "nbformat": 4,
 "nbformat_minor": 2
}
