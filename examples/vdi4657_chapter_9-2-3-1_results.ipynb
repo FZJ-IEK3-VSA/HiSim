{
 "cells": [
  {
   "cell_type": "code",
   "execution_count": null,
   "metadata": {},
   "outputs": [],
   "source": [
    "import os\n",
    "import pandas as pd"
   ]
  },
  {
   "cell_type": "code",
   "execution_count": null,
   "metadata": {},
   "outputs": [],
   "source": [
    "df=pd.DataFrame()\n",
    "for folder in os.listdir('results'):\n",
    "    try:\n",
    "        df=pd.concat([df,pd.read_csv(r'results/'+folder+'/results_kpi.csv')])\n",
    "    except:\n",
    "        print('No `results_kpi.csv` in ' + folder)\n",
    "df.sort_values('p_pv')\n",
    "#df.to_csv('results.csv')"
   ]
  },
  {
   "cell_type": "code",
   "execution_count": null,
   "metadata": {},
   "outputs": [],
   "source": [
    "df['battery_discharge [kWh]'] / df['battery_charge [kWh]']"
   ]
  },
  {
   "cell_type": "code",
   "execution_count": null,
   "metadata": {},
   "outputs": [],
   "source": [
    "import plotly.graph_objects as go\n",
    "import pandas as pd\n",
    "from plotly.subplots import make_subplots\n",
    "import numpy as np\n",
    "import scipy.optimize as optimize\n",
    "df=pd.read_csv('results.csv')\n",
    "df=df.loc[df['p_pv']>0.1,:]\n",
    "df=df.loc[df['e_bat']!=0.1,:]"
   ]
  },
  {
   "cell_type": "code",
   "execution_count": null,
   "metadata": {},
   "outputs": [],
   "source": [
    "colorscale=[\n",
    "        [0, \"rgb(183,0,0)\"],\n",
    "        [0.1, \"rgb(183,0,0)\"],\n",
    "        [0.1, \"rgb(255,56,0)\"],\n",
    "        [0.2, \"rgb(255,56,0)\"],\n",
    "        [0.2, \"rgb(255,90,0)\"],\n",
    "        [0.3, \"rgb(255,90,0)\"],\n",
    "        [0.3, \"rgb(255,146,0)\"],\n",
    "        [0.4, \"rgb(255,146,0)\"],\n",
    "        [0.4, \"rgb(255,203,0)\"],\n",
    "        [0.5, \"rgb(255,203,0)\"],\n",
    "        [0.5, \"rgb(195,255,0)\"],\n",
    "        [0.6, \"rgb(195,255,0)\"],\n",
    "        [0.6, \"rgb(153,204,51)\"],\n",
    "        [0.7, \"rgb(153,204,51)\"],\n",
    "        [0.7, \"rgb(67,166,12)\"],\n",
    "        [0.8, \"rgb(67,166,12)\"],\n",
    "        [0.8, \"rgb(51,153,0)\"],\n",
    "        [0.9, \"rgb(51,153,0)\"],\n",
    "        [0.9, \"rgb(38,98,54)\"],\n",
    "        [1, \"rgb(38,98,54)\"],]\n",
    "colorbar=dict(tickmode='array',tickvals=[0.05, 0.15,0.25,0.35,0.45,0.55,0.65,0.75,0.85,0.95],ticktext=['0-10','10-20','20-30','30-40','40-50','50-60','60-70','70-80','80-90','90-100'],len=1.05,ticklabeloverflow='allow')\n",
    "fig= make_subplots(1,2)\n",
    "fig.add_trace(go.Heatmap(x=df['p_pv'].values,\n",
    "                                y=df['e_bat'].values,\n",
    "                                z=df['autarkiegrad'].values,\n",
    "                                text=df['autarkiegrad'].round(2),\n",
    "                                texttemplate=\"%{text}\",\n",
    "                                textfont={\"size\":10},\n",
    "                                coloraxis='coloraxis'\n",
    "                                \n",
    "),1,1)\n",
    "fig.add_trace(go.Heatmap(x=df['p_pv'].values,\n",
    "                                y=df['e_bat'].values,\n",
    "                                z=df['eigenverbrauch'].values,\n",
    "                                text=df['eigenverbrauch'].round(2),\n",
    "                                texttemplate=\"%{text}\",\n",
    "                                textfont={\"size\":10},\n",
    "                                coloraxis='coloraxis',\n",
    "                                opacity=1,                                                       \n",
    "),1,2)\n",
    "fig.update_layout(title='Autarkiegrad und Eigenverbrauch',width=900.5,height=500,coloraxis = {'cmin':0,'cmax':1.0,'colorscale':colorscale,'colorbar':colorbar,'autocolorscale':False},)\n",
    "fig.update_yaxes(tick0=0,dtick=0.25,tickangle=270,title='C_eff_sp in kWh/MWh')\n",
    "fig.update_xaxes(tick0=0,dtick=0.25,title='p_pv_sp in kWp/MWh')\n",
    "fig.show()\n"
   ]
  },
  {
   "cell_type": "code",
   "execution_count": null,
   "metadata": {},
   "outputs": [],
   "source": [
    "df=pd.read_csv('results.csv')\n",
    "df=df.loc[df['p_pv']>0.1,:]\n",
    "df.loc[(df['eigenverbrauch']>0)==0,'eigenverbrauch']=1\n",
    "#df=df.loc[df['e_bat']!=0.1,:]\n",
    "def func_autarkie(data, k1, k2,k3,k4):\n",
    "    return np.maximum((k1*data[0]+k2)*(k4*data[1]+1)/((data[0]+k3)*(data[1]+1)),0)\n",
    "\n",
    "def func_eigenverbrauch(data, k5, k6,k7,k8):\n",
    "    return np.minimum((k5*data[0]+k6)*(k8*data[1]+1)/((data[0]+k7)*(data[1]+1)),1)\n",
    "    \n",
    "guess1 = (0.4276,-0.007667,0.4736,2.81)\n",
    "params_autarkie, pcov = optimize.curve_fit(func_autarkie, [df['e_bat'].values,df['p_pv'].values], df['autarkiegrad'].values, guess1)\n",
    "guess2 = (-0.001034,0.4495,0.4518,2.795)\n",
    "params, pcov = optimize.curve_fit(func_eigenverbrauch, [df['e_bat'].values,df['p_pv'].values], df['eigenverbrauch'].values, guess2)\n",
    "\n",
    "df1=pd.DataFrame()\n",
    "e_bat=[]\n",
    "p_pv=[]\n",
    "eigen=[]\n",
    "aut=[]\n",
    "for bat in df['e_bat'].unique():\n",
    "    for pv in df['p_pv'].unique():\n",
    "        e_bat.append(bat)\n",
    "        p_pv.append(pv)\n",
    "        aut.append(func_autarkie([bat,pv],params_autarkie[0],params_autarkie[1],params_autarkie[2],params_autarkie[3]))#,guess1[0],guess1[1],guess1[2],guess1[3]))#\n",
    "        eigen.append(func_eigenverbrauch([bat,pv],params[0],params[1],params[2],params[3]))#guess2[0],guess2[1],guess2[2],guess2[3]))\n",
    "df1['e_bat']=e_bat\n",
    "df1['p_pv']=p_pv\n",
    "df1['eigenverbrauch']=eigen\n",
    "df1['autarkiegrad']=aut\n",
    "df1=df1.loc[df1['e_bat']!=0.1,:]\n",
    "fig= make_subplots(1,2)\n",
    "fig.add_trace(go.Heatmap(x=df1['p_pv'].values,\n",
    "                                y=df1['e_bat'].values,\n",
    "                                z=df1['autarkiegrad'].values,\n",
    "                                text=df1['autarkiegrad'].round(2),\n",
    "                                texttemplate=\"%{text}\",\n",
    "                                textfont={\"size\":10},\n",
    "                                coloraxis='coloraxis'\n",
    "                                \n",
    "),1,1)\n",
    "\n",
    "fig.add_trace(go.Heatmap(x=df1['p_pv'].values,\n",
    "                                y=df1['e_bat'].values,\n",
    "                                z=df1['eigenverbrauch'].values,\n",
    "                                text=df1['eigenverbrauch'].round(2),\n",
    "                                texttemplate=\"%{text}\",\n",
    "                                textfont={\"size\":10},\n",
    "                                coloraxis='coloraxis',\n",
    "                                opacity=1,                                                       \n",
    "),1,2)\n",
    "fig.update_layout(title='Autarkiegrad und Eigenverbrauch',width=900.5,height=500,coloraxis = {'cmin':0,'cmax':1.0,'colorscale':colorscale,'colorbar':colorbar,'autocolorscale':False},)\n",
    "fig.update_yaxes(tick0=0,dtick=0.25,tickangle=270,title='C_eff_sp in kWh/MWh')\n",
    "fig.update_xaxes(tick0=0,dtick=0.25,title='p_pv_sp in kWp/MWh')\n",
    "fig.show()\n",
    "print('Parameter Autarkie: ', params_autarkie)\n",
    "print('Parameter Eigenverbrauch: ', params)"
   ]
  },
  {
   "cell_type": "code",
   "execution_count": null,
   "metadata": {},
   "outputs": [],
   "source": []
  }
 ],
 "metadata": {
  "kernelspec": {
   "display_name": "Python 3.9.12 ('hisimvenv')",
   "language": "python",
   "name": "python3"
  },
  "language_info": {
   "codemirror_mode": {
    "name": "ipython",
    "version": 3
   },
   "file_extension": ".py",
   "mimetype": "text/x-python",
   "name": "python",
   "nbconvert_exporter": "python",
   "pygments_lexer": "ipython3",
   "version": "3.9.12"
  },
  "orig_nbformat": 4,
  "vscode": {
   "interpreter": {
    "hash": "f89c5ba2f78bab205b526fd9d9ca5c7dcf952ab6119ef41d6e8d6f01b37f2d19"
   }
  }
 },
 "nbformat": 4,
 "nbformat_minor": 2
}
