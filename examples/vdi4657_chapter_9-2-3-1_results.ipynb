{
 "cells": [
  {
   "cell_type": "code",
   "execution_count": 1,
   "metadata": {},
   "outputs": [],
   "source": [
    "import os\n",
    "import plotly.offline as py\n",
    "import pandas as pd\n",
    "import plotly.graph_objects as go\n",
    "import pandas as pd\n",
    "from plotly.subplots import make_subplots\n",
    "import numpy\n",
    "import plotly.io as pio\n",
    "import scipy.optimize as optimize"
   ]
  },
  {
   "cell_type": "code",
   "execution_count": 2,
   "metadata": {},
   "outputs": [],
   "source": [
    "# ONLY NECCECARY DIRECTLY AFTER THE PARAMETER-VARIATION\n",
    "# read raw results and save\n",
    "\n",
    "#df=pd.DataFrame()\n",
    "#for folder in os.listdir('results'):\n",
    "#    try:\n",
    "#        df=pd.concat([df,pd.read_csv(r'results/'+folder+'/results_kpi.csv')])\n",
    "#    except:\n",
    "#        print('No `results_kpi.csv` in ' + folder)\n",
    "#df.sort_values('e_bat')\n",
    "#df.sort_values('p_pv')\n",
    "#df.to_csv(filename)"
   ]
  },
  {
   "cell_type": "code",
   "execution_count": 3,
   "metadata": {},
   "outputs": [],
   "source": [
    "#Fit-Functions\n",
    "guess = (1.0,1.0,1.0,1.0)\n",
    "def func_a(data, k1,k2,k3,k4):\n",
    "    return numpy.maximum((k1*data[0]+k2)*(k4*data[1]+1)/((data[0]+k3)*(data[1]+1)),0)\n",
    "def func_e(data, k1,k2,k3,k4):\n",
    "    return numpy.minimum((k1*data[0]+k2)*(k4*data[1]+1)/((data[0]+k3)*(data[1]+1)),1)"
   ]
  },
  {
   "cell_type": "code",
   "execution_count": 4,
   "metadata": {},
   "outputs": [],
   "source": [
    "# TODO Auswertung erfolgt bisher nur über ein Profil\n",
    "# TODO Schleife aufbauen und Fit-Parameter inkl. RMSE als CSV abspeichern\n",
    "# TODO Grafiken final hübsch machen und als SVG, PNG, PDF speichern. \n",
    "# Titel: \"Lastprofil-Name\"_[pv,chp]_[region]_[type]_[year]_[a,e]_[sim,fit]"
   ]
  },
  {
   "cell_type": "code",
   "execution_count": 5,
   "metadata": {},
   "outputs": [],
   "source": [
    "# colorbar\n",
    "colorscale=[\n",
    "        [0, \"#ff0000\"],\n",
    "        [0.1, \"#ff3300\"],\n",
    "        [0.2, \"#ff6600\"],\n",
    "        [0.3, \"#ff9900\"],\n",
    "        [0.4, \"#ffcc00\"],\n",
    "        [0.5, \"#ffff00\"],\n",
    "        [0.6, \"#cdee0a\"],\n",
    "        [0.7, \"#9add14\"],\n",
    "        [0.8, \"#67cc1e\"],\n",
    "        [0.9, \"#34bb28\"],\n",
    "        [1, \"#00a933\"],]\n",
    "colorbar=dict(tickmode='array',tickvals=[0.0, 0.1,0.2,0.3,0.4,0.5,0.6,0.7,0.8,0.9,1],ticktext=['0 %','10 %','20 %','30 %','40 %','50 %','60 %','70 %','80 %','90 %','100 %'],len=1.05,ticklabeloverflow='allow',outlinewidth=0,ticks='inside',ticklen=30)\n",
    "\n",
    "filename='vdi4657_chapter_9-2-3-1_results.csv'"
   ]
  },
  {
   "cell_type": "code",
   "execution_count": 13,
   "metadata": {},
   "outputs": [],
   "source": []
  },
  {
   "cell_type": "code",
   "execution_count": 6,
   "metadata": {},
   "outputs": [
    {
     "name": "stdout",
     "output_type": "stream",
     "text": [
      "LP_W_EFH\n",
      "LP_W_W_WP075\n",
      "LP_W_MFH_g_WP050\n",
      "LP_W_MFH_g\n",
      "LP_G_G\n",
      "LP_WP\n",
      "LP_G_MH\n",
      "LP_Ö_Büro_k\n",
      "LP_G2\n",
      "LP_L0\n",
      "LP_W_MFH_g_WP075\n",
      "LP_W_W\n",
      "LP_W_MFH_m_WP050\n",
      "LP_G6\n",
      "LP_G_MV\n",
      "LP_G0\n",
      "LP_G5\n",
      "LP_L1\n",
      "LP_Ö_Schule_k\n",
      "LP_W_EFH_WP075\n",
      "LP_G3\n",
      "LP_W_EFH_WP050\n",
      "LP_W_MFH_g_WP025\n",
      "LP_G4\n",
      "LP_W_MFH_k_WP050\n",
      "LP_L2\n",
      "LP_W_MFH_m_WP075\n",
      "LP_G1\n",
      "LP_Ö_Schule_g\n",
      "LP_Ö_Büro_m\n",
      "LP_W_W_WP050\n",
      "LP_W_MFH_k_WP075\n",
      "LP_W_MFH_k\n",
      "LP_W_EFH_WP025\n",
      "LP_W_MFH_m_WP025\n",
      "LP_W_MFH_k_WP025\n",
      "LP_W_MFH_m\n",
      "LP_W_W_WP025\n",
      "LP_Ö_Schule_m\n"
     ]
    }
   ],
   "source": [
    "df=pd.read_csv(filename)\n",
    "for profile in df['electric_loadprofile'].unique():\n",
    "    print(profile)"
   ]
  },
  {
   "cell_type": "code",
   "execution_count": 14,
   "metadata": {},
   "outputs": [
    {
     "data": {
      "application/vnd.plotly.v1+json": {
       "config": {
        "plotlyServerURL": "https://plot.ly"
       },
       "data": [
        {
         "coloraxis": "coloraxis",
         "text": [
          76,
          53,
          60,
          34,
          57,
          71,
          53,
          68,
          22,
          76,
          56,
          32,
          63,
          51,
          23,
          42,
          23,
          53,
          39,
          40,
          53,
          46,
          42,
          38,
          62,
          50,
          46,
          42,
          69,
          22,
          55,
          42,
          66,
          23,
          41,
          60,
          35,
          22,
          48,
          38,
          44,
          23,
          64,
          67,
          65,
          65,
          23,
          37,
          61,
          74,
          58,
          67,
          76,
          56,
          75,
          49,
          66,
          63,
          67,
          77,
          55,
          35,
          32,
          54,
          70,
          18,
          60,
          78,
          50,
          46,
          40,
          38,
          52,
          69,
          55,
          61,
          45,
          23,
          42,
          47,
          42,
          74,
          54,
          72,
          73,
          71,
          73,
          78,
          59,
          75,
          65,
          48,
          42,
          52,
          72,
          29,
          25,
          73,
          23,
          69,
          70,
          70,
          68,
          65,
          63,
          60,
          62,
          37,
          59,
          73
         ],
         "textfont": {
          "color": "black",
          "size": 10
         },
         "texttemplate": "%{text} %",
         "type": "heatmap",
         "x": [
          2.25,
          2,
          1.5,
          1.25,
          1.25,
          1.5,
          1.25,
          1.75,
          0.25,
          2,
          1,
          0.5,
          1.25,
          0.75,
          0.25,
          0.5,
          0.25,
          1,
          2.5,
          1,
          0.75,
          0.75,
          0.75,
          2.25,
          1.75,
          1,
          2,
          0.5,
          1.5,
          0.25,
          2.5,
          0.5,
          1.25,
          0.25,
          0.5,
          2.25,
          0.5,
          0.25,
          2.5,
          2,
          1.5,
          0.25,
          2,
          1.5,
          2.25,
          1.25,
          0.25,
          0.75,
          2.5,
          2,
          1.75,
          1.25,
          2.5,
          1.5,
          2.25,
          0.75,
          2.5,
          1.5,
          2,
          2.25,
          0.75,
          1.5,
          1,
          2.25,
          1.5,
          0.25,
          1.25,
          2.5,
          1.5,
          1,
          0.5,
          0.5,
          1.75,
          2.25,
          0.75,
          1,
          1.75,
          0.25,
          1.25,
          2.25,
          0.5,
          1.75,
          0.75,
          2,
          2.5,
          1.75,
          1.75,
          2.5,
          2,
          2.5,
          1.5,
          1.25,
          0.5,
          0.75,
          2.25,
          0.75,
          0.5,
          2.25,
          0.25,
          1.75,
          2.5,
          2,
          1.25,
          1.75,
          1,
          1,
          1,
          1.75,
          1,
          2
         ],
         "y": [
          2.25,
          0.5,
          1,
          0,
          1,
          2.5,
          0.75,
          1.5,
          0.5,
          2.5,
          1.25,
          0.25,
          1.5,
          1.25,
          1.75,
          2,
          2.25,
          1,
          0,
          0.25,
          1.75,
          0.75,
          0.5,
          0,
          1,
          0.75,
          0.25,
          2.5,
          2,
          0.75,
          0.5,
          1.75,
          2,
          1,
          1.25,
          0.75,
          0.5,
          0.25,
          0.25,
          0,
          0.25,
          2.5,
          1,
          1.75,
          1,
          1.75,
          1.5,
          0.25,
          0.75,
          2.25,
          0.75,
          2.25,
          2,
          0.75,
          2,
          1,
          1,
          1.25,
          1.25,
          2.5,
          2.5,
          0,
          0,
          0.5,
          2.25,
          0,
          1.25,
          2.25,
          0.5,
          0.5,
          1,
          0.75,
          0.5,
          1.25,
          2.25,
          2,
          0.25,
          1.25,
          0.25,
          0.25,
          2.25,
          2.5,
          2,
          1.75,
          1.5,
          2,
          2.25,
          2.5,
          0.75,
          1.75,
          1.5,
          0.5,
          1.5,
          1.5,
          1.5,
          0,
          0,
          1.75,
          2,
          1.75,
          1.25,
          1.5,
          2.5,
          1.25,
          2.5,
          1.75,
          2.25,
          0,
          1.5,
          2
         ],
         "z": [
          0.7584387023879413,
          0.533419145824089,
          0.5967788611926692,
          0.3399759551322467,
          0.569386301907663,
          0.7146956869051275,
          0.532363283491466,
          0.6756912759517115,
          0.2234843838706352,
          0.7579589047164431,
          0.5643365278935425,
          0.3177257153675434,
          0.6256739511047897,
          0.5074976381561848,
          0.2250774446901294,
          0.4206811606887111,
          0.2250774446901294,
          0.5342613417022872,
          0.3912974978637616,
          0.4009755605276751,
          0.5344144366990364,
          0.4551795765966276,
          0.4178380275250334,
          0.3843668234824707,
          0.6192944451258617,
          0.5005339127697872,
          0.4632452932228834,
          0.4232961596606147,
          0.6912742355950242,
          0.2249849879885659,
          0.5526323368251216,
          0.4186183124263463,
          0.6602430481408501,
          0.2250774446901294,
          0.4096387501385963,
          0.6039032443748452,
          0.3544387033127541,
          0.2158746784998392,
          0.4793631664825288,
          0.376253405606269,
          0.4400687393429687,
          0.2250774446901294,
          0.6365881384903738,
          0.6738570936615588,
          0.650610990244346,
          0.6456855575680897,
          0.2250774446901294,
          0.3684238664650073,
          0.6146150183277965,
          0.7444814234364842,
          0.5759431191359171,
          0.6711355058347169,
          0.7649390864003944,
          0.5574183665429678,
          0.7479452907570813,
          0.4855979484697344,
          0.6630461447679601,
          0.627066277124142,
          0.6714376132854473,
          0.772148294567894,
          0.5513357100545745,
          0.3549711726585502,
          0.3201125893807582,
          0.5439269035400409,
          0.7044265786956861,
          0.1809192299442353,
          0.5977844197540305,
          0.7760158630536292,
          0.5046178394412887,
          0.4568556614685493,
          0.3990883527162055,
          0.3818651959620784,
          0.5205940490709073,
          0.6875068800186745,
          0.5471924121266112,
          0.6135649478446739,
          0.4529003901730643,
          0.2250774446901294,
          0.4234575722268651,
          0.4718569346434312,
          0.4220146926044797,
          0.739725155594609,
          0.5420938242733974,
          0.71519672543269,
          0.7300264592522284,
          0.7126874238186813,
          0.7277463405077641,
          0.7836370875213542,
          0.5909810891051895,
          0.750343203594672,
          0.6508314171608081,
          0.4844963344557761,
          0.4151414646557175,
          0.5234671588256237,
          0.7152883314825337,
          0.2926348780081709,
          0.2511208438353589,
          0.7343098341520774,
          0.2250774446901294,
          0.6932352592321138,
          0.7008591815153743,
          0.6972752784748745,
          0.6791793288061957,
          0.6512932113319422,
          0.628036782528192,
          0.6031124169362261,
          0.6214122769893407,
          0.3666501834239911,
          0.5871203814326309,
          0.7284040302104073
         ]
        },
        {
         "line": {
          "color": "black",
          "dash": "dot",
          "width": 0.25
         },
         "mode": "lines",
         "showlegend": false,
         "type": "scatter",
         "x": [
          0.125,
          0.125
         ],
         "y": [
          -0.125,
          2.625
         ]
        },
        {
         "line": {
          "color": "black",
          "dash": "dot",
          "width": 0.25
         },
         "mode": "lines",
         "showlegend": false,
         "type": "scatter",
         "x": [
          0.375,
          0.375
         ],
         "y": [
          -0.125,
          2.625
         ]
        },
        {
         "line": {
          "color": "black",
          "dash": "dot",
          "width": 0.25
         },
         "mode": "lines",
         "showlegend": false,
         "type": "scatter",
         "x": [
          0.625,
          0.625
         ],
         "y": [
          -0.125,
          2.625
         ]
        },
        {
         "line": {
          "color": "black",
          "dash": "dot",
          "width": 0.25
         },
         "mode": "lines",
         "showlegend": false,
         "type": "scatter",
         "x": [
          0.875,
          0.875
         ],
         "y": [
          -0.125,
          2.625
         ]
        },
        {
         "line": {
          "color": "black",
          "dash": "dot",
          "width": 0.25
         },
         "mode": "lines",
         "showlegend": false,
         "type": "scatter",
         "x": [
          1.125,
          1.125
         ],
         "y": [
          -0.125,
          2.625
         ]
        },
        {
         "line": {
          "color": "black",
          "dash": "dot",
          "width": 0.25
         },
         "mode": "lines",
         "showlegend": false,
         "type": "scatter",
         "x": [
          1.375,
          1.375
         ],
         "y": [
          -0.125,
          2.625
         ]
        },
        {
         "line": {
          "color": "black",
          "dash": "dot",
          "width": 0.25
         },
         "mode": "lines",
         "showlegend": false,
         "type": "scatter",
         "x": [
          1.625,
          1.625
         ],
         "y": [
          -0.125,
          2.625
         ]
        },
        {
         "line": {
          "color": "black",
          "dash": "dot",
          "width": 0.25
         },
         "mode": "lines",
         "showlegend": false,
         "type": "scatter",
         "x": [
          1.875,
          1.875
         ],
         "y": [
          -0.125,
          2.625
         ]
        },
        {
         "line": {
          "color": "black",
          "dash": "dot",
          "width": 0.25
         },
         "mode": "lines",
         "showlegend": false,
         "type": "scatter",
         "x": [
          2.125,
          2.125
         ],
         "y": [
          -0.125,
          2.625
         ]
        },
        {
         "line": {
          "color": "black",
          "dash": "dot",
          "width": 0.25
         },
         "mode": "lines",
         "showlegend": false,
         "type": "scatter",
         "x": [
          2.375,
          2.375
         ],
         "y": [
          -0.125,
          2.625
         ]
        },
        {
         "line": {
          "color": "black",
          "dash": "dot",
          "width": 0.25
         },
         "mode": "lines",
         "showlegend": false,
         "type": "scatter",
         "x": [
          2.625,
          2.625
         ],
         "y": [
          -0.125,
          2.625
         ]
        },
        {
         "line": {
          "color": "black",
          "dash": "dot",
          "width": 0.5
         },
         "mode": "lines",
         "showlegend": false,
         "type": "scatter",
         "x": [
          0.125,
          2.625
         ],
         "y": [
          -0.125,
          -0.125
         ]
        },
        {
         "line": {
          "color": "black",
          "dash": "dot",
          "width": 0.5
         },
         "mode": "lines",
         "showlegend": false,
         "type": "scatter",
         "x": [
          0.125,
          2.625
         ],
         "y": [
          0.125,
          0.125
         ]
        },
        {
         "line": {
          "color": "black",
          "dash": "dot",
          "width": 0.5
         },
         "mode": "lines",
         "showlegend": false,
         "type": "scatter",
         "x": [
          0.125,
          2.625
         ],
         "y": [
          0.375,
          0.375
         ]
        },
        {
         "line": {
          "color": "black",
          "dash": "dot",
          "width": 0.5
         },
         "mode": "lines",
         "showlegend": false,
         "type": "scatter",
         "x": [
          0.125,
          2.625
         ],
         "y": [
          0.625,
          0.625
         ]
        },
        {
         "line": {
          "color": "black",
          "dash": "dot",
          "width": 0.5
         },
         "mode": "lines",
         "showlegend": false,
         "type": "scatter",
         "x": [
          0.125,
          2.625
         ],
         "y": [
          0.875,
          0.875
         ]
        },
        {
         "line": {
          "color": "black",
          "dash": "dot",
          "width": 0.5
         },
         "mode": "lines",
         "showlegend": false,
         "type": "scatter",
         "x": [
          0.125,
          2.625
         ],
         "y": [
          1.125,
          1.125
         ]
        },
        {
         "line": {
          "color": "black",
          "dash": "dot",
          "width": 0.5
         },
         "mode": "lines",
         "showlegend": false,
         "type": "scatter",
         "x": [
          0.125,
          2.625
         ],
         "y": [
          1.375,
          1.375
         ]
        },
        {
         "line": {
          "color": "black",
          "dash": "dot",
          "width": 0.5
         },
         "mode": "lines",
         "showlegend": false,
         "type": "scatter",
         "x": [
          0.125,
          2.625
         ],
         "y": [
          1.625,
          1.625
         ]
        },
        {
         "line": {
          "color": "black",
          "dash": "dot",
          "width": 0.5
         },
         "mode": "lines",
         "showlegend": false,
         "type": "scatter",
         "x": [
          0.125,
          2.625
         ],
         "y": [
          1.875,
          1.875
         ]
        },
        {
         "line": {
          "color": "black",
          "dash": "dot",
          "width": 0.5
         },
         "mode": "lines",
         "showlegend": false,
         "type": "scatter",
         "x": [
          0.125,
          2.625
         ],
         "y": [
          2.125,
          2.125
         ]
        },
        {
         "line": {
          "color": "black",
          "dash": "dot",
          "width": 0.5
         },
         "mode": "lines",
         "showlegend": false,
         "type": "scatter",
         "x": [
          0.125,
          2.625
         ],
         "y": [
          2.375,
          2.375
         ]
        },
        {
         "line": {
          "color": "black",
          "dash": "dot",
          "width": 0.5
         },
         "mode": "lines",
         "showlegend": false,
         "type": "scatter",
         "x": [
          0.125,
          2.625
         ],
         "y": [
          2.625,
          2.625
         ]
        }
       ],
       "layout": {
        "coloraxis": {
         "autocolorscale": false,
         "cmax": 1,
         "cmin": 0,
         "colorbar": {
          "len": 1.05,
          "outlinewidth": 0,
          "ticklabeloverflow": "allow",
          "ticklen": 30,
          "tickmode": "array",
          "ticks": "inside",
          "ticktext": [
           "0 %",
           "10 %",
           "20 %",
           "30 %",
           "40 %",
           "50 %",
           "60 %",
           "70 %",
           "80 %",
           "90 %",
           "100 %"
          ],
          "tickvals": [
           0,
           0.1,
           0.2,
           0.3,
           0.4,
           0.5,
           0.6,
           0.7,
           0.8,
           0.9,
           1
          ]
         },
         "colorscale": [
          [
           0,
           "#ff0000"
          ],
          [
           0.1,
           "#ff3300"
          ],
          [
           0.2,
           "#ff6600"
          ],
          [
           0.3,
           "#ff9900"
          ],
          [
           0.4,
           "#ffcc00"
          ],
          [
           0.5,
           "#ffff00"
          ],
          [
           0.6,
           "#cdee0a"
          ],
          [
           0.7,
           "#9add14"
          ],
          [
           0.8,
           "#67cc1e"
          ],
          [
           0.9,
           "#34bb28"
          ],
          [
           1,
           "#00a933"
          ]
         ]
        },
        "height": 600,
        "template": {
         "data": {
          "bar": [
           {
            "error_x": {
             "color": "#2a3f5f"
            },
            "error_y": {
             "color": "#2a3f5f"
            },
            "marker": {
             "line": {
              "color": "#E5ECF6",
              "width": 0.5
             },
             "pattern": {
              "fillmode": "overlay",
              "size": 10,
              "solidity": 0.2
             }
            },
            "type": "bar"
           }
          ],
          "barpolar": [
           {
            "marker": {
             "line": {
              "color": "#E5ECF6",
              "width": 0.5
             },
             "pattern": {
              "fillmode": "overlay",
              "size": 10,
              "solidity": 0.2
             }
            },
            "type": "barpolar"
           }
          ],
          "carpet": [
           {
            "aaxis": {
             "endlinecolor": "#2a3f5f",
             "gridcolor": "white",
             "linecolor": "white",
             "minorgridcolor": "white",
             "startlinecolor": "#2a3f5f"
            },
            "baxis": {
             "endlinecolor": "#2a3f5f",
             "gridcolor": "white",
             "linecolor": "white",
             "minorgridcolor": "white",
             "startlinecolor": "#2a3f5f"
            },
            "type": "carpet"
           }
          ],
          "choropleth": [
           {
            "colorbar": {
             "outlinewidth": 0,
             "ticks": ""
            },
            "type": "choropleth"
           }
          ],
          "contour": [
           {
            "colorbar": {
             "outlinewidth": 0,
             "ticks": ""
            },
            "colorscale": [
             [
              0,
              "#0d0887"
             ],
             [
              0.1111111111111111,
              "#46039f"
             ],
             [
              0.2222222222222222,
              "#7201a8"
             ],
             [
              0.3333333333333333,
              "#9c179e"
             ],
             [
              0.4444444444444444,
              "#bd3786"
             ],
             [
              0.5555555555555556,
              "#d8576b"
             ],
             [
              0.6666666666666666,
              "#ed7953"
             ],
             [
              0.7777777777777778,
              "#fb9f3a"
             ],
             [
              0.8888888888888888,
              "#fdca26"
             ],
             [
              1,
              "#f0f921"
             ]
            ],
            "type": "contour"
           }
          ],
          "contourcarpet": [
           {
            "colorbar": {
             "outlinewidth": 0,
             "ticks": ""
            },
            "type": "contourcarpet"
           }
          ],
          "heatmap": [
           {
            "colorbar": {
             "outlinewidth": 0,
             "ticks": ""
            },
            "colorscale": [
             [
              0,
              "#0d0887"
             ],
             [
              0.1111111111111111,
              "#46039f"
             ],
             [
              0.2222222222222222,
              "#7201a8"
             ],
             [
              0.3333333333333333,
              "#9c179e"
             ],
             [
              0.4444444444444444,
              "#bd3786"
             ],
             [
              0.5555555555555556,
              "#d8576b"
             ],
             [
              0.6666666666666666,
              "#ed7953"
             ],
             [
              0.7777777777777778,
              "#fb9f3a"
             ],
             [
              0.8888888888888888,
              "#fdca26"
             ],
             [
              1,
              "#f0f921"
             ]
            ],
            "type": "heatmap"
           }
          ],
          "heatmapgl": [
           {
            "colorbar": {
             "outlinewidth": 0,
             "ticks": ""
            },
            "colorscale": [
             [
              0,
              "#0d0887"
             ],
             [
              0.1111111111111111,
              "#46039f"
             ],
             [
              0.2222222222222222,
              "#7201a8"
             ],
             [
              0.3333333333333333,
              "#9c179e"
             ],
             [
              0.4444444444444444,
              "#bd3786"
             ],
             [
              0.5555555555555556,
              "#d8576b"
             ],
             [
              0.6666666666666666,
              "#ed7953"
             ],
             [
              0.7777777777777778,
              "#fb9f3a"
             ],
             [
              0.8888888888888888,
              "#fdca26"
             ],
             [
              1,
              "#f0f921"
             ]
            ],
            "type": "heatmapgl"
           }
          ],
          "histogram": [
           {
            "marker": {
             "pattern": {
              "fillmode": "overlay",
              "size": 10,
              "solidity": 0.2
             }
            },
            "type": "histogram"
           }
          ],
          "histogram2d": [
           {
            "colorbar": {
             "outlinewidth": 0,
             "ticks": ""
            },
            "colorscale": [
             [
              0,
              "#0d0887"
             ],
             [
              0.1111111111111111,
              "#46039f"
             ],
             [
              0.2222222222222222,
              "#7201a8"
             ],
             [
              0.3333333333333333,
              "#9c179e"
             ],
             [
              0.4444444444444444,
              "#bd3786"
             ],
             [
              0.5555555555555556,
              "#d8576b"
             ],
             [
              0.6666666666666666,
              "#ed7953"
             ],
             [
              0.7777777777777778,
              "#fb9f3a"
             ],
             [
              0.8888888888888888,
              "#fdca26"
             ],
             [
              1,
              "#f0f921"
             ]
            ],
            "type": "histogram2d"
           }
          ],
          "histogram2dcontour": [
           {
            "colorbar": {
             "outlinewidth": 0,
             "ticks": ""
            },
            "colorscale": [
             [
              0,
              "#0d0887"
             ],
             [
              0.1111111111111111,
              "#46039f"
             ],
             [
              0.2222222222222222,
              "#7201a8"
             ],
             [
              0.3333333333333333,
              "#9c179e"
             ],
             [
              0.4444444444444444,
              "#bd3786"
             ],
             [
              0.5555555555555556,
              "#d8576b"
             ],
             [
              0.6666666666666666,
              "#ed7953"
             ],
             [
              0.7777777777777778,
              "#fb9f3a"
             ],
             [
              0.8888888888888888,
              "#fdca26"
             ],
             [
              1,
              "#f0f921"
             ]
            ],
            "type": "histogram2dcontour"
           }
          ],
          "mesh3d": [
           {
            "colorbar": {
             "outlinewidth": 0,
             "ticks": ""
            },
            "type": "mesh3d"
           }
          ],
          "parcoords": [
           {
            "line": {
             "colorbar": {
              "outlinewidth": 0,
              "ticks": ""
             }
            },
            "type": "parcoords"
           }
          ],
          "pie": [
           {
            "automargin": true,
            "type": "pie"
           }
          ],
          "scatter": [
           {
            "fillpattern": {
             "fillmode": "overlay",
             "size": 10,
             "solidity": 0.2
            },
            "type": "scatter"
           }
          ],
          "scatter3d": [
           {
            "line": {
             "colorbar": {
              "outlinewidth": 0,
              "ticks": ""
             }
            },
            "marker": {
             "colorbar": {
              "outlinewidth": 0,
              "ticks": ""
             }
            },
            "type": "scatter3d"
           }
          ],
          "scattercarpet": [
           {
            "marker": {
             "colorbar": {
              "outlinewidth": 0,
              "ticks": ""
             }
            },
            "type": "scattercarpet"
           }
          ],
          "scattergeo": [
           {
            "marker": {
             "colorbar": {
              "outlinewidth": 0,
              "ticks": ""
             }
            },
            "type": "scattergeo"
           }
          ],
          "scattergl": [
           {
            "marker": {
             "colorbar": {
              "outlinewidth": 0,
              "ticks": ""
             }
            },
            "type": "scattergl"
           }
          ],
          "scattermapbox": [
           {
            "marker": {
             "colorbar": {
              "outlinewidth": 0,
              "ticks": ""
             }
            },
            "type": "scattermapbox"
           }
          ],
          "scatterpolar": [
           {
            "marker": {
             "colorbar": {
              "outlinewidth": 0,
              "ticks": ""
             }
            },
            "type": "scatterpolar"
           }
          ],
          "scatterpolargl": [
           {
            "marker": {
             "colorbar": {
              "outlinewidth": 0,
              "ticks": ""
             }
            },
            "type": "scatterpolargl"
           }
          ],
          "scatterternary": [
           {
            "marker": {
             "colorbar": {
              "outlinewidth": 0,
              "ticks": ""
             }
            },
            "type": "scatterternary"
           }
          ],
          "surface": [
           {
            "colorbar": {
             "outlinewidth": 0,
             "ticks": ""
            },
            "colorscale": [
             [
              0,
              "#0d0887"
             ],
             [
              0.1111111111111111,
              "#46039f"
             ],
             [
              0.2222222222222222,
              "#7201a8"
             ],
             [
              0.3333333333333333,
              "#9c179e"
             ],
             [
              0.4444444444444444,
              "#bd3786"
             ],
             [
              0.5555555555555556,
              "#d8576b"
             ],
             [
              0.6666666666666666,
              "#ed7953"
             ],
             [
              0.7777777777777778,
              "#fb9f3a"
             ],
             [
              0.8888888888888888,
              "#fdca26"
             ],
             [
              1,
              "#f0f921"
             ]
            ],
            "type": "surface"
           }
          ],
          "table": [
           {
            "cells": {
             "fill": {
              "color": "#EBF0F8"
             },
             "line": {
              "color": "white"
             }
            },
            "header": {
             "fill": {
              "color": "#C8D4E3"
             },
             "line": {
              "color": "white"
             }
            },
            "type": "table"
           }
          ]
         },
         "layout": {
          "annotationdefaults": {
           "arrowcolor": "#2a3f5f",
           "arrowhead": 0,
           "arrowwidth": 1
          },
          "autotypenumbers": "strict",
          "coloraxis": {
           "colorbar": {
            "outlinewidth": 0,
            "ticks": ""
           }
          },
          "colorscale": {
           "diverging": [
            [
             0,
             "#8e0152"
            ],
            [
             0.1,
             "#c51b7d"
            ],
            [
             0.2,
             "#de77ae"
            ],
            [
             0.3,
             "#f1b6da"
            ],
            [
             0.4,
             "#fde0ef"
            ],
            [
             0.5,
             "#f7f7f7"
            ],
            [
             0.6,
             "#e6f5d0"
            ],
            [
             0.7,
             "#b8e186"
            ],
            [
             0.8,
             "#7fbc41"
            ],
            [
             0.9,
             "#4d9221"
            ],
            [
             1,
             "#276419"
            ]
           ],
           "sequential": [
            [
             0,
             "#0d0887"
            ],
            [
             0.1111111111111111,
             "#46039f"
            ],
            [
             0.2222222222222222,
             "#7201a8"
            ],
            [
             0.3333333333333333,
             "#9c179e"
            ],
            [
             0.4444444444444444,
             "#bd3786"
            ],
            [
             0.5555555555555556,
             "#d8576b"
            ],
            [
             0.6666666666666666,
             "#ed7953"
            ],
            [
             0.7777777777777778,
             "#fb9f3a"
            ],
            [
             0.8888888888888888,
             "#fdca26"
            ],
            [
             1,
             "#f0f921"
            ]
           ],
           "sequentialminus": [
            [
             0,
             "#0d0887"
            ],
            [
             0.1111111111111111,
             "#46039f"
            ],
            [
             0.2222222222222222,
             "#7201a8"
            ],
            [
             0.3333333333333333,
             "#9c179e"
            ],
            [
             0.4444444444444444,
             "#bd3786"
            ],
            [
             0.5555555555555556,
             "#d8576b"
            ],
            [
             0.6666666666666666,
             "#ed7953"
            ],
            [
             0.7777777777777778,
             "#fb9f3a"
            ],
            [
             0.8888888888888888,
             "#fdca26"
            ],
            [
             1,
             "#f0f921"
            ]
           ]
          },
          "colorway": [
           "#636efa",
           "#EF553B",
           "#00cc96",
           "#ab63fa",
           "#FFA15A",
           "#19d3f3",
           "#FF6692",
           "#B6E880",
           "#FF97FF",
           "#FECB52"
          ],
          "font": {
           "color": "#2a3f5f"
          },
          "geo": {
           "bgcolor": "white",
           "lakecolor": "white",
           "landcolor": "#E5ECF6",
           "showlakes": true,
           "showland": true,
           "subunitcolor": "white"
          },
          "hoverlabel": {
           "align": "left"
          },
          "hovermode": "closest",
          "mapbox": {
           "style": "light"
          },
          "paper_bgcolor": "white",
          "plot_bgcolor": "#E5ECF6",
          "polar": {
           "angularaxis": {
            "gridcolor": "white",
            "linecolor": "white",
            "ticks": ""
           },
           "bgcolor": "#E5ECF6",
           "radialaxis": {
            "gridcolor": "white",
            "linecolor": "white",
            "ticks": ""
           }
          },
          "scene": {
           "xaxis": {
            "backgroundcolor": "#E5ECF6",
            "gridcolor": "white",
            "gridwidth": 2,
            "linecolor": "white",
            "showbackground": true,
            "ticks": "",
            "zerolinecolor": "white"
           },
           "yaxis": {
            "backgroundcolor": "#E5ECF6",
            "gridcolor": "white",
            "gridwidth": 2,
            "linecolor": "white",
            "showbackground": true,
            "ticks": "",
            "zerolinecolor": "white"
           },
           "zaxis": {
            "backgroundcolor": "#E5ECF6",
            "gridcolor": "white",
            "gridwidth": 2,
            "linecolor": "white",
            "showbackground": true,
            "ticks": "",
            "zerolinecolor": "white"
           }
          },
          "shapedefaults": {
           "line": {
            "color": "#2a3f5f"
           }
          },
          "ternary": {
           "aaxis": {
            "gridcolor": "white",
            "linecolor": "white",
            "ticks": ""
           },
           "baxis": {
            "gridcolor": "white",
            "linecolor": "white",
            "ticks": ""
           },
           "bgcolor": "#E5ECF6",
           "caxis": {
            "gridcolor": "white",
            "linecolor": "white",
            "ticks": ""
           }
          },
          "title": {
           "x": 0.05
          },
          "xaxis": {
           "automargin": true,
           "gridcolor": "white",
           "linecolor": "white",
           "ticks": "",
           "title": {
            "standoff": 15
           },
           "zerolinecolor": "white",
           "zerolinewidth": 2
          },
          "yaxis": {
           "automargin": true,
           "gridcolor": "white",
           "linecolor": "white",
           "ticks": "",
           "title": {
            "standoff": 15
           },
           "zerolinecolor": "white",
           "zerolinewidth": 2
          }
         }
        },
        "title": {
         "text": "Autarkiegrad",
         "x": 0.5,
         "xanchor": "center",
         "y": 0.875,
         "yanchor": "top"
        },
        "width": 600,
        "xaxis": {
         "dtick": 0.25,
         "range": [
          0.12,
          2.63
         ],
         "tick0": 0,
         "title": {
          "text": "p_pv_sp in kWp/MWh"
         }
        },
        "yaxis": {
         "dtick": 0.25,
         "range": [
          -0.13,
          2.63
         ],
         "tick0": 0,
         "tickangle": -90,
         "title": {
          "standoff": 5,
          "text": "$C\\eff $ in kWh/MWh"
         }
        }
       }
      }
     },
     "metadata": {},
     "output_type": "display_data"
    }
   ],
   "source": [
    "profile='LP_W_EFH'\n",
    "# Autarkiegrad\n",
    "# load results and fit\n",
    "df=pd.read_csv(filename)\n",
    "# Filter data for fit\n",
    "df=df.loc[df['electric_loadprofile']==profile,:]\n",
    "df=df.loc[df['p_pv']>0,:]\n",
    "xData = df['p_pv'].values\n",
    "yData = df['e_bat'].values\n",
    "zData = df['autarkiegrad'].values\n",
    "# place the data in a single list\n",
    "data = [xData, yData, zData]\n",
    "params_a, pcov = optimize.curve_fit(func_a, [xData,yData], zData, guess)\n",
    "\n",
    "# calc values with fitting functions\n",
    "df1=pd.DataFrame()\n",
    "PV = list(numpy.arange(0.25,2.75,0.25))\n",
    "BAT = list(numpy.arange(0,2.75,0.25))\n",
    "e_bat=[]\n",
    "p_pv=[]\n",
    "eigen=[]\n",
    "aut=[]\n",
    "for bat in BAT:\n",
    "    for pv in PV:\n",
    "        e_bat.append(bat)\n",
    "        p_pv.append(pv)\n",
    "        aut.append(func_a([pv,bat],params_a[0],params_a[1],params_a[2],params_a[3]))\n",
    "df1['e_bat']=e_bat\n",
    "df1['p_pv']=p_pv\n",
    "df1['autarkiegrad']=aut\n",
    "fig= go.Figure()\n",
    "# Filter for plot\n",
    "df=df.loc[df['p_pv']>=0.25,:]\n",
    "df=df.loc[df['e_bat']!=0.05,:]\n",
    "df=df.loc[df['e_bat']!=0.10,:]\n",
    "df=df.loc[df['e_bat']!=0.15,:]\n",
    "df=df.loc[df['e_bat']!=0.20,:]\n",
    "fig.add_trace(go.Heatmap(x=df['p_pv'].values,\n",
    "                                y=df['e_bat'].values,\n",
    "                                z=df['autarkiegrad'].values,\n",
    "                                text=(df['autarkiegrad']*100).round(0),\n",
    "                                texttemplate=\"%{text} %\",\n",
    "                                textfont={\"size\":10,'color':'black'},\n",
    "                                coloraxis='coloraxis'))\n",
    "for i in range(11):\n",
    "    fig.add_trace(go.Scatter(x=[i/4+0.125, i/4+0.125],\n",
    "                            y=[-0.125, 2.625],\n",
    "                            mode=\"lines\",\n",
    "                            line=dict(color='black', width=0.25, dash='dot'),\n",
    "                            \n",
    "                            showlegend=False))\n",
    "for i in range(12):\n",
    "    fig.add_trace(go.Scatter(y=[i/4-0.125, i/4-0.125],\n",
    "                            x=[0.125, 2.625],\n",
    "                            mode=\"lines\",\n",
    "                            line=dict(color='black', width=0.5, dash='dot'),\n",
    "                            showlegend=False))\n",
    "fig.update_layout(width=600,height=600,coloraxis = {'cmin':0,'cmax':1.0,'colorscale':colorscale,'colorbar':colorbar,'autocolorscale':False},)\n",
    "fig.update_layout(\n",
    "    title={\n",
    "        'text': \"Autarkiegrad\",\n",
    "        'y':0.875,\n",
    "        'x':0.5,\n",
    "        'xanchor': 'center',\n",
    "        'yanchor': 'top'})\n",
    "fig.update_yaxes(range=[-0.13,2.63],tick0=0,dtick=0.25,tickangle=270,title={'text':'$C\\ eff $ in kWh/MWh','standoff':5})\n",
    "fig.update_xaxes(range=[0.12,2.63],tick0=0,dtick=0.25,title='p_pv_sp in kWp/MWh')\n",
    "fig.show()\n",
    "pio.write_image(fig, 'pic_23.png')"
   ]
  },
  {
   "cell_type": "code",
   "execution_count": null,
   "metadata": {},
   "outputs": [],
   "source": [
    "fig.write_image('vdi4657_chapter_9-2-3/'+profile+'_pv_4_average_2015_a.png')\n",
    "fig.write_image('vdi4657_chapter_9-2-3/'+profile+'_pv_4_average_2015_a.svg')\n",
    "fig.write_image('vdi4657_chapter_9-2-3/'+profile+'_pv_4_average_2015_a.pdf')\n",
    "fig=go.Figure()\n",
    "fig.add_trace(go.Heatmap(x=df1['p_pv'].values,\n",
    "                                y=df1['e_bat'].values,\n",
    "                                z=df1['autarkiegrad'].values,\n",
    "                                text=(df1['autarkiegrad']*100).round(),\n",
    "                                texttemplate=\"%{text} %\",\n",
    "                                textfont={\"size\":10,'color':'black'},\n",
    "                                coloraxis='coloraxis',\n",
    "                                opacity=1,))\n",
    "for i in range(10):\n",
    "    fig.add_trace(go.Scatter(x=[i/4+0.125, i/4+0.125],\n",
    "                            y=[-0.125, 2.625],\n",
    "                            mode=\"lines\",\n",
    "                            line=dict(color='black', width=0.25, dash='dot'),\n",
    "                            \n",
    "                            showlegend=False))\n",
    "for i in range(11):\n",
    "    fig.add_trace(go.Scatter(y=[i/4-0.125, i/4-0.125],\n",
    "                            x=[0.125, 2.625],\n",
    "                            mode=\"lines\",\n",
    "                            line=dict(color='black', width=0.25, dash='dot'),\n",
    "                            showlegend=False))\n",
    "for i in range(11):\n",
    "    fig.add_trace(go.Scatter(x=[i/4+0.125, i/4+0.125],\n",
    "                            y=[-0.125, 2.625],\n",
    "                            mode=\"lines\",\n",
    "                            line=dict(color='black', width=0.25, dash='dot'),\n",
    "                            \n",
    "                            showlegend=False))\n",
    "for i in range(12):\n",
    "    fig.add_trace(go.Scatter(y=[i/4-0.125, i/4-0.125],\n",
    "                            x=[0.125, 2.625],\n",
    "                            mode=\"lines\",\n",
    "                            line=dict(color='black', width=0.5, dash='dot'),\n",
    "                            showlegend=False))\n",
    "fig.update_layout(width=600,height=600,coloraxis = {'cmin':0,'cmax':1.0,'colorscale':colorscale,'colorbar':colorbar,'autocolorscale':False},)\n",
    "fig.update_layout(\n",
    "    title={\n",
    "        'text': \"Autarkiegrad\",\n",
    "        'y':0.875,\n",
    "        'x':0.5,\n",
    "        'xanchor': 'center',\n",
    "        'yanchor': 'top'})\n",
    "fig.update_yaxes(range=[-0.13,2.63],tick0=0,dtick=0.25,tickangle=270,title={'text':'C_eff_sp in kWh/MWh','standoff':5})\n",
    "fig.update_xaxes(range=[0.12,2.63],tick0=0,dtick=0.25,title='p_pv_sp in kWp/MWh')\n",
    "fig.show()\n",
    "fig.write_image('vdi4657_chapter_9-2-3/'+profile+'_pv_4_average_2015_a-fit.png')\n",
    "fig.write_image('vdi4657_chapter_9-2-3/'+profile+'_pv_4_average_2015_a-fit.svg')\n",
    "fig.write_image('vdi4657_chapter_9-2-3/'+profile+'_pv_4_average_2015_a-fit.pdf')\n",
    "\n",
    "\n",
    "print('fitted parameters', params_a)\n",
    "modelPredictions = func_a(data, *params_a) \n",
    "absError = modelPredictions - zData\n",
    "SE = numpy.square(absError) # squared errors\n",
    "MSE = numpy.mean(SE) # mean squared errors\n",
    "RMSE_A = numpy.sqrt(MSE) # Root Mean Squared Error, RMSE\n",
    "Rsquared = 1.0 - (numpy.var(absError) / numpy.var(zData))\n",
    "print('RMSE:', RMSE_A)\n",
    "print('R-squared:', Rsquared)\n",
    "df1=df1.sort_values(['e_bat','p_pv'])\n",
    "df1['a_dif']=df1['autarkiegrad'].values-df.sort_values(['e_bat','p_pv'])['autarkiegrad'].values\n",
    "fig=go.Figure()\n",
    "fig.add_trace(go.Heatmap(x=df1['p_pv'].values,\n",
    "                                y=df1['e_bat'].values,\n",
    "                                z=df1['a_dif'].values,\n",
    "                                text=(df1['a_dif']*100).round(1),\n",
    "                                texttemplate=\"%{text} %\",\n",
    "                                textfont={\"size\":10,'color':'black'},\n",
    "                                coloraxis='coloraxis'))\n",
    "for i in range(11):\n",
    "    fig.add_trace(go.Scatter(x=[i/4+0.125, i/4+0.125],\n",
    "                            y=[-0.125, 2.625],\n",
    "                            mode=\"lines\",\n",
    "                            line=dict(color='black', width=0.25, dash='dot'),\n",
    "                            \n",
    "                            showlegend=False))\n",
    "for i in range(12):\n",
    "    fig.add_trace(go.Scatter(y=[i/4-0.125, i/4-0.125],\n",
    "                            x=[0.125, 2.625],\n",
    "                            mode=\"lines\",\n",
    "                            line=dict(color='black', width=0.5, dash='dot'),\n",
    "                            showlegend=False))\n",
    "fig.update_layout(width=600,height=600,coloraxis = {'cmin':-0.07,'cmax':0.07},)\n",
    "fig.update_layout(\n",
    "    title={\n",
    "        'text': \"Autarkiegrad Differenz Fit zu Simulation\",\n",
    "        'y':0.875,\n",
    "        'x':0.5,\n",
    "        'xanchor': 'center',\n",
    "        'yanchor': 'top'})\n",
    "fig.update_yaxes(range=[-0.13,2.63],tick0=0,dtick=0.25,tickangle=270,title={'text':'C_eff_sp in kWh/MWh','standoff':5})\n",
    "fig.update_xaxes(range=[0.12,2.63],tick0=0,dtick=0.25,title='p_pv_sp in kWp/MWh')\n",
    "fig.show()\n",
    "fig.write_image('vdi4657_chapter_9-2-3/'+profile+'_pv_4_average_2015_a-dif.png')\n",
    "fig.write_image('vdi4657_chapter_9-2-3/'+profile+'_pv_4_average_2015_a-dif.svg')\n",
    "fig.write_image('vdi4657_chapter_9-2-3/'+profile+'_pv_4_average_2015_a-dif.pdf')\n",
    "\n",
    "\n",
    "\n",
    "# Eigenverbrauchsanteil\n",
    "# load results and fit\n",
    "\n",
    "df=pd.read_csv(filename)\n",
    "# Filter data for fit\n",
    "df=df.loc[df['electric_loadprofile']==profile,:]\n",
    "df=df.loc[df['p_pv']>0,:]\n",
    "df=df.loc[df['eigenverbrauch']<1,:]\n",
    "xData = df['p_pv'].values\n",
    "yData = df['e_bat'].values\n",
    "zData = df['eigenverbrauch'].values\n",
    "# place the data in a single list\n",
    "data = [xData, yData, zData]\n",
    "params_e, pcov = optimize.curve_fit(func_e, [xData,yData], zData, guess)\n",
    "\n",
    "# calc values with fitting functions\n",
    "df1=pd.DataFrame()\n",
    "PV = list(numpy.arange(0.25,2.75,0.25))\n",
    "BAT = list(numpy.arange(0,2.75,0.25))\n",
    "e_bat=[]\n",
    "p_pv=[]\n",
    "eigen=[]\n",
    "for bat in BAT:\n",
    "    for pv in PV:\n",
    "        e_bat.append(bat)\n",
    "        p_pv.append(pv)\n",
    "        eigen.append(func_e([pv,bat],params_e[0],params_e[1],params_e[2],params_e[3]))\n",
    "df1['e_bat']=e_bat\n",
    "df1['p_pv']=p_pv\n",
    "df1['eigenverbrauch']=eigen\n",
    "fig= go.Figure()\n",
    "# Filter for plot\n",
    "df=df.loc[df['p_pv']>=0.25,:]\n",
    "df=df.loc[df['e_bat']!=0.05,:]\n",
    "df=df.loc[df['e_bat']!=0.10,:]\n",
    "df=df.loc[df['e_bat']!=0.15,:]\n",
    "df=df.loc[df['e_bat']!=0.20,:]\n",
    "fig.add_trace(go.Heatmap(x=df['p_pv'].values,\n",
    "                                y=df['e_bat'].values,\n",
    "                                z=df['eigenverbrauch'].values,\n",
    "                                text=(df['eigenverbrauch']*100).round(0),\n",
    "                                texttemplate=\"%{text} %\",\n",
    "                                textfont={\"size\":10,'color':'black'},\n",
    "                                coloraxis='coloraxis'))\n",
    "for i in range(11):\n",
    "    fig.add_trace(go.Scatter(x=[i/4+0.125, i/4+0.125],\n",
    "                            y=[-0.125, 2.625],\n",
    "                            mode=\"lines\",\n",
    "                            line=dict(color='black', width=0.25, dash='dot'),\n",
    "                            \n",
    "                            showlegend=False))\n",
    "for i in range(12):\n",
    "    fig.add_trace(go.Scatter(y=[i/4-0.125, i/4-0.125],\n",
    "                            x=[0.125, 2.625],\n",
    "                            mode=\"lines\",\n",
    "                            line=dict(color='black', width=0.5, dash='dot'),\n",
    "                            showlegend=False))\n",
    "fig.update_layout(width=600,height=600,coloraxis = {'cmin':0,'cmax':1.0,'colorscale':colorscale,'colorbar':colorbar,'autocolorscale':False},)\n",
    "fig.update_layout(\n",
    "    title={\n",
    "        'text': \"Eigenverbrauch\",\n",
    "        'y':0.875,\n",
    "        'x':0.5,\n",
    "        'xanchor': 'center',\n",
    "        'yanchor': 'top'})\n",
    "fig.update_yaxes(range=[-0.13,2.63],tick0=0,dtick=0.25,tickangle=270,title={'text':'C_eff_sp in kWh/MWh','standoff':5})\n",
    "fig.update_xaxes(range=[0.12,2.63],tick0=0,dtick=0.25,title='p_pv_sp in kWp/MWh')\n",
    "fig.show()\n",
    "fig.write_image('vdi4657_chapter_9-2-3/'+profile+'_pv_4_average_2015_e.png')\n",
    "fig.write_image('vdi4657_chapter_9-2-3/'+profile+'_pv_4_average_2015_e.svg')\n",
    "fig.write_image('vdi4657_chapter_9-2-3/'+profile+'_pv_4_average_2015_e.pdf')\n",
    "\n",
    "fig=go.Figure()\n",
    "fig.add_trace(go.Heatmap(x=df1['p_pv'].values,\n",
    "                                y=df1['e_bat'].values,\n",
    "                                z=df1['eigenverbrauch'].values,\n",
    "                                text=(df1['eigenverbrauch']*100).round(0),\n",
    "                                texttemplate=\"%{text} %\",\n",
    "                                textfont={\"size\":10,'color':'black'},\n",
    "                                coloraxis='coloraxis',\n",
    "                                opacity=1,))\n",
    "\n",
    "for i in range(11):\n",
    "    fig.add_trace(go.Scatter(x=[i/4+0.125, i/4+0.125],\n",
    "                            y=[-0.125, 2.625],\n",
    "                            mode=\"lines\",\n",
    "                            line=dict(color='black', width=0.25, dash='dot'),\n",
    "                            \n",
    "                            showlegend=False))\n",
    "for i in range(12):\n",
    "    fig.add_trace(go.Scatter(y=[i/4-0.125, i/4-0.125],\n",
    "                            x=[0.125, 2.625],\n",
    "                            mode=\"lines\",\n",
    "                            line=dict(color='black', width=0.5, dash='dot'),\n",
    "                            showlegend=False))\n",
    "fig.update_layout(width=600,height=600,coloraxis = {'cmin':0,'cmax':1.0,'colorscale':colorscale,'colorbar':colorbar,'autocolorscale':False},)\n",
    "fig.update_layout(\n",
    "    title={\n",
    "        'text': \"Eigenverbrauch\",\n",
    "        'y':0.875,\n",
    "        'x':0.5,\n",
    "        'xanchor': 'center',\n",
    "        'yanchor': 'top'})\n",
    "fig.update_yaxes(range=[-0.13,2.63],tick0=0,dtick=0.25,tickangle=270,title={'text':'C_eff_sp in kWh/MWh','standoff':5})\n",
    "fig.update_xaxes(range=[0.12,2.63],tick0=0,dtick=0.25,title='p_pv_sp in kWp/MWh')\n",
    "fig.show()\n",
    "fig.write_image('vdi4657_chapter_9-2-3/'+profile+'_pv_4_average_2015_e-fit.png')\n",
    "fig.write_image('vdi4657_chapter_9-2-3/'+profile+'_pv_4_average_2015_e-fit.svg')\n",
    "fig.write_image('vdi4657_chapter_9-2-3/'+profile+'_pv_4_average_2015_e-fit.pdf')\n",
    "print('fitted parameters', params_e)\n",
    "modelPredictions = func_e(data, *params_e) \n",
    "absError = modelPredictions - zData\n",
    "SE = numpy.square(absError) # squared errors\n",
    "MSE = numpy.mean(SE) # mean squared errors\n",
    "RMSE_E = numpy.sqrt(MSE) # Root Mean Squared Error, RMSE\n",
    "Rsquared = 1.0 - (numpy.var(absError) / numpy.var(zData))\n",
    "print('RMSE:', RMSE_E)\n",
    "print('R-squared:', Rsquared)\n",
    "df1=df1.sort_values(['e_bat','p_pv'])\n",
    "df1['e_dif']=df1['eigenverbrauch'].values-df.sort_values(['e_bat','p_pv'])['eigenverbrauch'].values\n",
    "fig=go.Figure()\n",
    "fig.add_trace(go.Heatmap(x=df1['p_pv'].values,\n",
    "                                y=df1['e_bat'].values,\n",
    "                                z=df1['e_dif'].values,\n",
    "                                text=(df1['e_dif']*100).round(1),\n",
    "                                texttemplate=\"%{text} %\",\n",
    "                                textfont={\"size\":10,'color':'black'},\n",
    "                                coloraxis='coloraxis'))\n",
    "for i in range(11):\n",
    "    fig.add_trace(go.Scatter(x=[i/4+0.125, i/4+0.125],\n",
    "                            y=[-0.125, 2.625],\n",
    "                            mode=\"lines\",\n",
    "                            line=dict(color='black', width=0.25, dash='dot'),\n",
    "                            \n",
    "                            showlegend=False))\n",
    "for i in range(12):\n",
    "    fig.add_trace(go.Scatter(y=[i/4-0.125, i/4-0.125],\n",
    "                            x=[0.125, 2.625],\n",
    "                            mode=\"lines\",\n",
    "                            line=dict(color='black', width=0.5, dash='dot'),\n",
    "                            showlegend=False))\n",
    "fig.update_layout(width=600,height=600,coloraxis = {'cmin':-0.07,'cmax':0.07},)\n",
    "fig.update_layout(\n",
    "    title={\n",
    "        'text': \"Eigenverbrauch Differenz Fit zu Simulation\",\n",
    "        'y':0.875,\n",
    "        'x':0.5,\n",
    "        'xanchor': 'center',\n",
    "        'yanchor': 'top'})\n",
    "fig.update_yaxes(range=[-0.13,2.63],tick0=0,dtick=0.25,tickangle=270,title={'text':'C_eff_sp in kWh/MWh','standoff':5})\n",
    "fig.update_xaxes(range=[0.12,2.63],tick0=0,dtick=0.25,title='p_pv_sp in kWp/MWh')\n",
    "fig.show()\n",
    "fig.write_image('vdi4657_chapter_9-2-3/'+profile+'_pv_4_average_2015_e-dif.png')\n",
    "fig.write_image('vdi4657_chapter_9-2-3/'+profile+'_pv_4_average_2015_e-dif.svg')\n",
    "fig.write_image('vdi4657_chapter_9-2-3/'+profile+'_pv_4_average_2015_e-dif.pdf')\n",
    "df_para=pd.DataFrame()\n",
    "df_para['Lastprofilgruppe']=[profile,profile]\n",
    "df_para['Parameter']=['k_e','k_a']\n",
    "df_para['1']=[params_e[0],params_a[0]]\n",
    "df_para['2']=[params_e[1],params_a[1]]\n",
    "df_para['3']=[params_e[2],params_a[2]]\n",
    "df_para['4']=[params_e[3],params_a[3]]\n",
    "df_para['RMSE']=[RMSE_E,RMSE_A]\n",
    "df_para.to_csv('vdi4657_chapter_9-2-3/'+profile+'_para.csv',index=False)"
   ]
  },
  {
   "cell_type": "code",
   "execution_count": null,
   "metadata": {},
   "outputs": [],
   "source": []
  }
 ],
 "metadata": {
  "kernelspec": {
   "display_name": "Python 3.9.12 ('hisimvenv')",
   "language": "python",
   "name": "python3"
  },
  "language_info": {
   "codemirror_mode": {
    "name": "ipython",
    "version": 3
   },
   "file_extension": ".py",
   "mimetype": "text/x-python",
   "name": "python",
   "nbconvert_exporter": "python",
   "pygments_lexer": "ipython3",
   "version": "3.9.12"
  },
  "orig_nbformat": 4,
  "vscode": {
   "interpreter": {
    "hash": "f89c5ba2f78bab205b526fd9d9ca5c7dcf952ab6119ef41d6e8d6f01b37f2d19"
   }
  }
 },
 "nbformat": 4,
 "nbformat_minor": 2
}
