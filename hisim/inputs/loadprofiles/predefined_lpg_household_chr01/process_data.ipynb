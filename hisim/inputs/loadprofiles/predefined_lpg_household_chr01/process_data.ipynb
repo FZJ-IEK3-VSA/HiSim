{
 "cells": [
  {
   "cell_type": "code",
   "execution_count": 5,
   "metadata": {
    "scrolled": true
   },
   "outputs": [],
   "source": [
    "import os\n",
    "import shutil\n",
    "\n",
    "def raw2processed(filename):\n",
    "    shutil.copy(os.path.join('data_raw',filename),os.path.join('data_processed',filename))"
   ]
  },
  {
   "cell_type": "code",
   "execution_count": 6,
   "metadata": {},
   "outputs": [],
   "source": [
    "raw2processed('BodilyActivityLevel.High.HH1.json')\n",
    "raw2processed('BodilyActivityLevel.Low.HH1.json')\n",
    "raw2processed('SumProfiles.HH1.Electricity.csv')\n",
    "raw2processed('SumProfiles.HH1.Warm Water.csv')"
   ]
  }
 ],
 "metadata": {
  "kernelspec": {
   "display_name": "Python 3",
   "language": "python",
   "name": "python3"
  },
  "language_info": {
   "codemirror_mode": {
    "name": "ipython",
    "version": 3
   },
   "file_extension": ".py",
   "mimetype": "text/x-python",
   "name": "python",
   "nbconvert_exporter": "python",
   "pygments_lexer": "ipython3",
   "version": "3.8.3"
  }
 },
 "nbformat": 4,
 "nbformat_minor": 4
}
